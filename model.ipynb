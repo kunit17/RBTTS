{
 "cells": [
  {
   "cell_type": "code",
   "execution_count": null,
   "metadata": {},
   "outputs": [],
   "source": [
    "import torch\n",
    "import torch.nn as nn\n",
    "from torch.nn import functional as F\n",
    "import json\n",
    "from tokenizer import Tokenizer \n",
    "\n",
    "torch.manual_seed(1337)\n",
    "\n",
    "import json\n",
    "\n",
    "# Load vocabulary from JSON file\n",
    "with open('vocab.json', 'r') as json_file:\n",
    "    vocab = json.load(json_file)\n",
    "\n",
    "tokenizer = Tokenizer(vocab)\n",
    "\n",
    "class SelfAttentionModel(nn.Module):\n",
    "\n",
    "    def __init__ (self, embedding_size, embedding_dim):\n",
    "        super().__init__()\n",
    "        self.token_embedding_table = nn.Embedding(embedding_size, embedding_dim)\n",
    "\n",
    "    def forward(self, input, target):\n",
    "        logits = self.token_embedding_table(input) #128 x 94 -> num_mels x max_num_frames\n",
    "        loss = torch.nn.functional.l1_loss(input, target, size_average=None, reduce=None, reduction='mean')\n",
    "        return logits\n",
    "\n"
   ]
  },
  {
   "cell_type": "code",
   "execution_count": null,
   "metadata": {},
   "outputs": [],
   "source": []
  }
 ],
 "metadata": {
  "kernelspec": {
   "display_name": "base",
   "language": "python",
   "name": "python3"
  },
  "language_info": {
   "name": "python",
   "version": "3.12.7"
  }
 },
 "nbformat": 4,
 "nbformat_minor": 2
}
