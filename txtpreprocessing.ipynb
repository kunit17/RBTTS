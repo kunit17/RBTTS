{
 "cells": [
  {
   "cell_type": "code",
   "execution_count": 29,
   "metadata": {},
   "outputs": [
    {
     "name": "stdout",
     "output_type": "stream",
     "text": [
      "41\n",
      "Key with max 'Text' length: 308. Text: 41 tokens: ['do', '<SPACE>', 'you', '<SPACE>', 'know', '<SPACE>', 'how', '<SPACE>', 'to', '<SPACE>', 'get', '<SPACE>', 'out', '<SPACE>', 'of', '<SPACE>', 'here', '?', '<SPACE>', 'i', '<SPACE>', 'need', '<SPACE>', 'to', '<SPACE>', 'find', '<SPACE>', 'my', '<SPACE>', 'ship', '<SPACE>', 'to', '<SPACE>', 'get', '<SPACE>', 'off', '<SPACE>', 'this', '<SPACE>', 'planet', '.']\n",
      "1393\n",
      "['how', '<SPACE>', 'are', '<SPACE>', 'you', '<SPACE>', 'doing', '?']\n",
      "1638\n"
     ]
    }
   ],
   "source": [
    "import re\n",
    "import json\n",
    "\n",
    "# File path\n",
    "file_path = r\"./Data/SRT/timestamps.txt\"\n",
    "\n",
    "\n",
    "# Regular expression\n",
    "pattern = r'(\\d{3}|\\d{4})\\s+(\\d{2}:\\d{2}:\\d{2},\\d{3} --> \\d{2}:\\d{2}:\\d{2},\\d{3})\\s+([\\s\\S]*?)(?=</font>|</i></font>)'\n",
    "\n",
    "# Read the file\n",
    "with open(file_path, 'r', encoding='utf-8') as file:\n",
    "    text = file.read()\n",
    "\n",
    "# Find all matches\n",
    "matches = re.findall(pattern, text, re.DOTALL)\n",
    "\n",
    "\n",
    "data_dict = {match[0]: {\"Timestamp\": match[1], \"Text\": match[2]} for match in matches}\n",
    "\n",
    "vocab = []\n",
    "\n",
    "#cleaning transcription by moving values from SRT file\n",
    "for key, value in data_dict.items():\n",
    "    value['Text'] = (\n",
    "        value['Text']\n",
    "        .replace('\\n', ' ')\n",
    "        .replace('/', '')\n",
    "        .replace('<b><font color=\"#ffff00\">', '')\n",
    "        .replace('<b><font color=\"#ffff00\"><i>', '')\n",
    "        .replace('</i></font></b>', '')\n",
    "        .replace('<i>','')\n",
    "        .lower()\n",
    "    )\n",
    "    value['Text'] = [\n",
    "        '<SPACE>' if token.isspace() else token # convert spaces into <SPACE>\n",
    "        for token in re.findall(r'\\b\\w+\\'?\\w*|[.,!?]|\\s', value['Text']) #convert text into list with words, <SPACE>, and .,!?\n",
    "    ]\n",
    "    vocab += value['Text']\n",
    "\n",
    "print(len(data_dict['359']['Text']))\n",
    "# Assuming data_dict is your dictionary\n",
    "max_text_key = max(data_dict, key=lambda k: len(data_dict[k]['Text']))\n",
    "max_text = data_dict[max_text_key]['Text']\n",
    "\n",
    "print(f\"Key with max 'Text' length: {max_text_key}. Text: {len(max_text)} tokens: {max_text}\")\n",
    "\n",
    "#get each unique value of the dictionary\n",
    "vocab_sorted = sorted(set(vocab))\n",
    "vocab_sorted.insert(0,'<PAD>')\n",
    "\n",
    "with open('vocab.json', 'w') as json_file:\n",
    "    json.dump(vocab_sorted, json_file)\n",
    "\n",
    "print(len(vocab_sorted))\n",
    "print(data_dict['171']['Text'])\n",
    "#print((encode(data_dict['171']['Text'], tokenizer, len(max_text))))\n",
    "print(len(data_dict))"
   ]
  },
  {
   "cell_type": "code",
   "execution_count": 22,
   "metadata": {},
   "outputs": [],
   "source": [
    "# File path\n",
    "file_path = \"tokenizer.txt\"\n",
    "\n",
    "# Write to file\n",
    "with open(file_path, \"w\") as f:\n",
    "    f.write(\"Tokenizer (word -> integer):\\n\")\n",
    "    for word, i in tokenizer.items():\n",
    "        f.write(f\"{word}: {i}\\n\")\n",
    "    \n",
    "    f.write(\"\\nInteger to Word Mapping:\\n\")\n",
    "    for i, word in int_to_str.items():\n",
    "        f.write(f\"{i}: {word}\\n\")"
   ]
  },
  {
   "cell_type": "code",
   "execution_count": null,
   "metadata": {},
   "outputs": [],
   "source": []
  },
  {
   "cell_type": "code",
   "execution_count": null,
   "metadata": {},
   "outputs": [],
   "source": []
  },
  {
   "cell_type": "code",
   "execution_count": null,
   "metadata": {},
   "outputs": [],
   "source": []
  },
  {
   "cell_type": "code",
   "execution_count": null,
   "metadata": {},
   "outputs": [],
   "source": []
  },
  {
   "cell_type": "code",
   "execution_count": null,
   "metadata": {},
   "outputs": [],
   "source": []
  },
  {
   "cell_type": "code",
   "execution_count": null,
   "metadata": {},
   "outputs": [],
   "source": []
  },
  {
   "cell_type": "code",
   "execution_count": 18,
   "metadata": {},
   "outputs": [
    {
     "name": "stdout",
     "output_type": "stream",
     "text": [
      "Tokenizer saved to tokenizer.txt\n"
     ]
    }
   ],
   "source": [
    "# Assuming tokenizer is defined as follows:\n",
    "tokenizer = {i: word for i, word in enumerate(vocab_sorted)}\n",
    "\n",
    "# File path to save the tokenizer\n",
    "file_path = \"tokenizer.txt\"\n",
    "\n",
    "# Write the tokenizer to a text file\n",
    "with open(file_path, \"w\") as file:\n",
    "    for key, value in tokenizer.items():\n",
    "        file.write(f\"{key}: {value}\\n\")\n",
    "\n",
    "print(f\"Tokenizer saved to {file_path}\")\n"
   ]
  },
  {
   "cell_type": "code",
   "execution_count": null,
   "metadata": {},
   "outputs": [],
   "source": []
  }
 ],
 "metadata": {
  "kernelspec": {
   "display_name": "base",
   "language": "python",
   "name": "python3"
  },
  "language_info": {
   "codemirror_mode": {
    "name": "ipython",
    "version": 3
   },
   "file_extension": ".py",
   "mimetype": "text/x-python",
   "name": "python",
   "nbconvert_exporter": "python",
   "pygments_lexer": "ipython3",
   "version": "3.12.2"
  }
 },
 "nbformat": 4,
 "nbformat_minor": 2
}
